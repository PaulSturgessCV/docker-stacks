import tensorflow as tf

hello = tf.Variable('Hello World!')

sess = tf.Session()
init = tf.initialize_all_variables()

sess.run(init)
sess.run(hello)
